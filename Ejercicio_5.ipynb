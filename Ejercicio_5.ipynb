{
 "cells": [
  {
   "cell_type": "markdown",
   "metadata": {},
   "source": [
    "<center> <h1>Universidad Nacional de San Agustín de Arequipa</h1> </center> \n",
    "<center> <h1>Escuela Profesional de Ingeniería de Telecomunicaciones</h1> </center> \n",
    "\n",
    "<center> <h1> </h1> </center> \n",
    "\n",
    "<center><img src=\"https://user-images.githubusercontent.com/19308295/115939517-f1c6fe80-a463-11eb-989c-812ab4942586.png\" width=\"380\" height=\"4200\"></center>"
   ]
  },
  {
   "cell_type": "markdown",
   "metadata": {},
   "source": [
    "<center> <h1>Ingeniero Renzo Bolivar - Docente DAIE</h1> </center> "
   ]
  },
  {
   "cell_type": "markdown",
   "metadata": {},
   "source": [
    "<center> <h1>Curso : Computación 2</h1> </center> "
   ]
  },
  {
   "cell_type": "markdown",
   "metadata": {},
   "source": [
    "<h2><center>Grupo: A2</center></h2>\n",
    "<h2><center>Alumno: Axel Scott Palma layme</center></h2>"
   ]
  },
  {
   "cell_type": "markdown",
   "metadata": {},
   "source": [
    "![linea 1](https://user-images.githubusercontent.com/19308295/115926252-2b8a0c00-a448-11eb-9d9c-b43beaf0ff68.png)"
   ]
  },
  {
   "cell_type": "markdown",
   "metadata": {},
   "source": [
    "![linea 2](https://user-images.githubusercontent.com/19308295/115926262-2fb62980-a448-11eb-8189-c2f10e499944.png)"
   ]
  },
  {
   "cell_type": "markdown",
   "metadata": {},
   "source": [
    "## <font color=#33A5FF>****EJERCICIOS****<tfont>"
   ]
  },
  {
   "cell_type": "markdown",
   "metadata": {},
   "source": [
    "<center> <h2>Ejercicio 05</h2> </center> "
   ]
  },
  {
   "cell_type": "markdown",
   "metadata": {},
   "source": [
    "De la siguiente Matriz:"
   ]
  },
  {
   "cell_type": "markdown",
   "metadata": {},
   "source": [
    "<img src=\"https://user-images.githubusercontent.com/19308295/115969585-39509780-a503-11eb-92ac-fd88557e6cfc.png\"\n",
    "    style=\"width:400px\"></img>"
   ]
  },
  {
   "cell_type": "markdown",
   "metadata": {},
   "source": [
    "* Extraer la matrices de cada color"
   ]
  },
  {
   "cell_type": "code",
   "execution_count": 194,
   "metadata": {},
   "outputs": [
    {
     "name": "stdout",
     "output_type": "stream",
     "text": [
      "[[ 1  2  3  4  5]\n",
      " [ 6  7  8  9 10]\n",
      " [11 12 13 14 15]\n",
      " [16 17 18 19 20]\n",
      " [21 22 23 24 25]\n",
      " [26 27 28 29 30]] \n",
      "\n",
      "La matriz de color verde es: \n",
      " [ 2  8 14 20] \n",
      "\n",
      "La matriz de color azul es: \n",
      " [[11 12]\n",
      " [16 17]] \n",
      "\n",
      "La matriz de color rojo es: \n",
      " [[ 4  5]\n",
      " [24 25]\n",
      " [29 30]] \n",
      "\n"
     ]
    }
   ],
   "source": [
    "a = np.array([np.arange(1,6), np.arange(6,11), np.arange(11,16),np.arange(16,21),np.arange(21,26), np.arange(26,31)])\n",
    "print (a, \"\\n\")\n",
    "\n",
    "x,y = np.indices((6,5))\n",
    "\n",
    "verde = np.diag(a,1)\n",
    "print(\"La matriz de color verde es: \\n\", verde, \"\\n\")\n",
    "\n",
    "azul = np.array([[a[2,0],a[2,1]],[a[3,0],a[3,1]]])\n",
    "print(\"La matriz de color azul es: \\n\", azul, \"\\n\")\n",
    "\n",
    "rojo = np.array ([(a[0,3],a[0,4]),(a[4,3],a[4,4]),(a[5,3],a[5,4])])\n",
    "print(\"La matriz de color rojo es: \\n\", rojo, \"\\n\")\n",
    "#print(a[5][4])"
   ]
  },
  {
   "cell_type": "markdown",
   "metadata": {},
   "source": [
    "![linea 2](https://user-images.githubusercontent.com/19308295/115926262-2fb62980-a448-11eb-8189-c2f10e499944.png)"
   ]
  },
  {
   "cell_type": "markdown",
   "metadata": {},
   "source": [
    "## <font color=#33A5FF>****BIBLIOGRAFÍA****<tfont>"
   ]
  },
  {
   "cell_type": "markdown",
   "metadata": {},
   "source": [
    "[1] Documentación de NumPy http://docs.scipy.org/doc/numpy\n",
    "\n",
    "[2] Travis Oliphant, \"Guide to NumPy\" http://csc.ucdavis.edu/~chaos/courses/nlp/Software/NumPyBook.pdf\n",
    "\n",
    "[3] SciPy Lecture Notes http://scipy-lectures.github.io\n",
    "\n",
    "[4] Nicolas Rougier, \"100 NumPy exercises\" http://www.loria.fr/~rougier/teaching/numpy.100/index.html"
   ]
  },
  {
   "cell_type": "markdown",
   "metadata": {},
   "source": [
    "![linea 1](https://user-images.githubusercontent.com/19308295/115926252-2b8a0c00-a448-11eb-9d9c-b43beaf0ff68.png)"
   ]
  }
 ],
 "metadata": {
  "kernelspec": {
   "display_name": "Python 3 (ipykernel)",
   "language": "python",
   "name": "python3"
  },
  "language_info": {
   "codemirror_mode": {
    "name": "ipython",
    "version": 3
   },
   "file_extension": ".py",
   "mimetype": "text/x-python",
   "name": "python",
   "nbconvert_exporter": "python",
   "pygments_lexer": "ipython3",
   "version": "3.10.11"
  }
 },
 "nbformat": 4,
 "nbformat_minor": 4
}
