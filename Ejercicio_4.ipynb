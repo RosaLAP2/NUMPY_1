{
 "cells": [
  {
   "cell_type": "markdown",
   "id": "2b4869f1",
   "metadata": {},
   "source": [
    "<center> <h1>Universidad Nacional de San Agustín de Arequipa</h1> </center> \n",
    "<center> <h1>Escuela Profesional de Ingeniería de Telecomunicaciones</h1> </center> \n",
    "\n",
    "<center> <h1> </h1> </center> \n",
    "\n",
    "<center><img src=\"https://user-images.githubusercontent.com/19308295/115939517-f1c6fe80-a463-11eb-989c-812ab4942586.png\" width=\"380\" height=\"4200\"></center>"
   ]
  },
  {
   "cell_type": "markdown",
   "id": "533fc33b",
   "metadata": {},
   "source": [
    "<center> <h2>Ingeniero Renzo Bolivar - Docente DAIE</h2> </center> "
   ]
  },
  {
   "cell_type": "markdown",
   "id": "5d5df0c6",
   "metadata": {},
   "source": [
    "<center> <h1>Curso : Computación 2</h1> </center> "
   ]
  },
  {
   "cell_type": "markdown",
   "id": "c7eb6623",
   "metadata": {},
   "source": [
    "INTEGRANTE"
   ]
  },
  {
   "cell_type": "markdown",
   "id": "22499cf1",
   "metadata": {},
   "source": [
    "-ABRIL MESTAS RAUL EDILBERTO\n"
   ]
  },
  {
   "cell_type": "markdown",
   "id": "556f3fa2",
   "metadata": {},
   "source": [
    "<center> <h2>Ejercicio 04</h2> </center> \n"
   ]
  },
  {
   "cell_type": "markdown",
   "id": "cd702b8f",
   "metadata": {},
   "source": [
    "De la siguiente Matriz"
   ]
  },
  {
   "cell_type": "markdown",
   "id": "735aedb7",
   "metadata": {},
   "source": [
    "<img src=\"https://user-images.githubusercontent.com/19308295/115969506-dbbc4b00-a502-11eb-9c76-c9da265c5366.png\"\n",
    "    style=\"width:400px\"></img>"
   ]
  },
  {
   "cell_type": "markdown",
   "id": "f9994e15",
   "metadata": {},
   "source": [
    "* Luego invertir lo valores de 9 y 1 de la Matriz anterior"
   ]
  },
  {
   "cell_type": "code",
   "execution_count": 14,
   "id": "b5c53df8",
   "metadata": {},
   "outputs": [
    {
     "name": "stdout",
     "output_type": "stream",
     "text": [
      "[[9 9 9 9 9]\n",
      " [9 0 0 0 9]\n",
      " [9 0 1 0 9]\n",
      " [9 0 0 0 9]\n",
      " [9 9 9 9 9]]\n"
     ]
    }
   ],
   "source": [
    "import numpy as np\n",
    "\n",
    "matriz = [[1,1,1,1,1],[1,0,0,0,1],[1,0,9,0,1],[1,0,0,0,1],[1,1,1,1,1]]\n",
    "\n",
    "for i in range(len(matriz)):\n",
    "    for j in range(len(matriz[i])):\n",
    "        if matriz[i][j] == 1:\n",
    "            matriz[i][j] = 9\n",
    "        elif matriz[i][j] == 9:\n",
    "            matriz[i][j] = 1\n",
    "\n",
    "print(np.array(matriz))"
   ]
  },
  {
   "cell_type": "code",
   "execution_count": 12,
   "id": "821eb153",
   "metadata": {},
   "outputs": [
    {
     "name": "stdout",
     "output_type": "stream",
     "text": [
      "[[9 9 9 9 9]\n",
      " [9 0 0 0 9]\n",
      " [9 0 1 0 9]\n",
      " [9 0 0 0 9]\n",
      " [9 9 9 9 9]]\n"
     ]
    }
   ],
   "source": [
    "import numpy as np\n",
    "matriz = [[1,1,1,1,1],[1,0,0,0,1],[1,0,9,0,1],[1,0,0,0,1],[1,1,1,1,1]]\n",
    "\n",
    "for i in range(len(matriz)):\n",
    "    for j in range(len(matriz[i])):\n",
    "        if matriz[i][j] == 1:\n",
    "            matriz[i][j] = 9\n",
    "        elif matriz[i][j] == 9:\n",
    "            matriz[i][j] = 1\n",
    "\n",
    "print(np.array(matriz))"
   ]
  },
  {
   "cell_type": "code",
   "execution_count": null,
   "id": "0ab1c6ae",
   "metadata": {},
   "outputs": [],
   "source": []
  }
 ],
 "metadata": {
  "kernelspec": {
   "display_name": "Python 3 (ipykernel)",
   "language": "python",
   "name": "python3"
  },
  "language_info": {
   "codemirror_mode": {
    "name": "ipython",
    "version": 3
   },
   "file_extension": ".py",
   "mimetype": "text/x-python",
   "name": "python",
   "nbconvert_exporter": "python",
   "pygments_lexer": "ipython3",
   "version": "3.10.11"
  }
 },
 "nbformat": 4,
 "nbformat_minor": 5
}
