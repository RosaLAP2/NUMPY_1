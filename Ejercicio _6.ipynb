{
  "cells": [
    {
      "cell_type": "markdown",
      "source": [
        "**Ejercicio 06**"
      ],
      "metadata": {
        "id": "o1Sur3Fq6WX1"
      }
    },
    {
      "cell_type": "code",
      "execution_count": 2,
      "metadata": {
        "id": "yG2ej-82JHiS"
      },
      "outputs": [],
      "source": [
        "\n",
        "import numpy as np"
      ]
    },
    {
      "cell_type": "code",
      "execution_count": 6,
      "metadata": {
        "id": "zjejD2WExoS4",
        "colab": {
          "base_uri": "https://localhost:8080/"
        },
        "outputId": "643a2591-95a2-4fd8-fc46-5ee6dcd963ee"
      },
      "outputs": [
        {
          "output_type": "stream",
          "name": "stdout",
          "text": [
            "[[255  34  45  16  24  99]\n",
            " [200  50  67  15  56  88]\n",
            " [165  67  34  26  87  70]\n",
            " [120 100  45  45  56  67]\n",
            " [ 45 225  35  67  50  44]\n",
            " [ 36 255  24  78  77  23]]\n",
            "\n",
            "[[  0   0   0]\n",
            " [  0 255   0]\n",
            " [  0   0   0]]\n",
            "\n",
            "==>Matriz reemplzando 50 con la matriz B\n",
            "\n",
            "[[  0   0   0  16  24  99]\n",
            " [  0 255   0  15  56  88]\n",
            " [  0   0   0  26  87  70]\n",
            " [120 100  45   0   0   0]\n",
            " [ 45 225  35   0 255   0]\n",
            " [ 36 255  24   0   0   0]]\n",
            "\n"
          ]
        }
      ],
      "source": [
        "A = [[255,34,45,16,24,99],[200,50,67,15,56,88],[165,67,34,26,87,70],[120,100,45,45,56,67],[45,225,35,67,50,44],[36,255,24,78,77,23]]\n",
        "B = [[0,0,0],[0,255,0],[0,0,0]]\n",
        "print(np.array(A))\n",
        "print()\n",
        "print(np.array(B))\n",
        "print()\n",
        "print(\"==>Matriz reemplzando 50 con la matriz B\")\n",
        "print()\n",
        "for i in range(len(A)):\n",
        "    for j in range(len(A[i])):\n",
        "        if A[i][j] == 50:\n",
        "            # Reemplazar los elementos adyacentes con la matriz B\n",
        "            for x in range(i-1, i+2):\n",
        "                for y in range(j-1, j+2):\n",
        "                    if x >= 0 and x < len(A) and y >= 0 and y < len(A[i]):\n",
        "                        A[x][y] = B[x-i+1][y-j+1]\n",
        "\n",
        "print(np.array(A))\n",
        "print()\n",
        "\n"
      ]
    }
  ],
  "metadata": {
    "colab": {
      "provenance": []
    },
    "kernelspec": {
      "display_name": "Python 3",
      "name": "python3"
    },
    "language_info": {
      "name": "python"
    }
  },
  "nbformat": 4,
  "nbformat_minor": 0
}