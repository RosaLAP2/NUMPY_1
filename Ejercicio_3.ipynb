{
 "cells": [
  {
   "cell_type": "markdown",
   "id": "fb744939",
   "metadata": {},
   "source": [
    "## EJERCICIO 3\n",
    "Crea una matriz aleatoria 7x7 y halla los valores mínimo y máximo.\n",
    "Normaliza la matriz anterior entre 0 y 1.\n"
   ]
  },
  {
   "cell_type": "code",
   "execution_count": 5,
   "id": "cab0640a",
   "metadata": {},
   "outputs": [],
   "source": [
    "import numpy as np"
   ]
  },
  {
   "cell_type": "code",
   "execution_count": 14,
   "id": "08452877",
   "metadata": {},
   "outputs": [
    {
     "name": "stdout",
     "output_type": "stream",
     "text": [
      "[[16 15 52 15 13 27 86]\n",
      " [ 4 55 30 29 87 15 93]\n",
      " [18 77 57 15  2 93 77]\n",
      " [22 49 32 72 47  4 40]\n",
      " [15  0 83 33 90 61 59]\n",
      " [88 59 47 40 20  3  1]\n",
      " [90 15 91 83 23  3 16]]\n"
     ]
    }
   ],
   "source": [
    "m = np.random.randint(100,size=(7,7))\n",
    "print(m)"
   ]
  },
  {
   "cell_type": "code",
   "execution_count": 15,
   "id": "ab58085d",
   "metadata": {},
   "outputs": [
    {
     "name": "stdout",
     "output_type": "stream",
     "text": [
      "0 93\n"
     ]
    }
   ],
   "source": [
    "minimo = m.min()\n",
    "maximo = m.max()\n",
    "\n",
    "print(minimo,maximo)"
   ]
  },
  {
   "cell_type": "code",
   "execution_count": 16,
   "id": "9cb8260d",
   "metadata": {
    "scrolled": true
   },
   "outputs": [
    {
     "name": "stdout",
     "output_type": "stream",
     "text": [
      "[[0.17204301 0.16129032 0.55913978 0.16129032 0.13978495 0.29032258\n",
      "  0.92473118]\n",
      " [0.04301075 0.59139785 0.32258065 0.31182796 0.93548387 0.16129032\n",
      "  1.        ]\n",
      " [0.19354839 0.82795699 0.61290323 0.16129032 0.02150538 1.\n",
      "  0.82795699]\n",
      " [0.23655914 0.52688172 0.34408602 0.77419355 0.50537634 0.04301075\n",
      "  0.43010753]\n",
      " [0.16129032 0.         0.89247312 0.35483871 0.96774194 0.65591398\n",
      "  0.6344086 ]\n",
      " [0.94623656 0.6344086  0.50537634 0.43010753 0.21505376 0.03225806\n",
      "  0.01075269]\n",
      " [0.96774194 0.16129032 0.97849462 0.89247312 0.24731183 0.03225806\n",
      "  0.17204301]]\n"
     ]
    }
   ],
   "source": [
    "m = (m - minimo)/(maximo - minimo)\n",
    "print(m)"
   ]
  },
  {
   "cell_type": "code",
   "execution_count": null,
   "id": "94a91986",
   "metadata": {},
   "outputs": [],
   "source": []
  }
 ],
 "metadata": {
  "kernelspec": {
   "display_name": "Python 3 (ipykernel)",
   "language": "python",
   "name": "python3"
  },
  "language_info": {
   "codemirror_mode": {
    "name": "ipython",
    "version": 3
   },
   "file_extension": ".py",
   "mimetype": "text/x-python",
   "name": "python",
   "nbconvert_exporter": "python",
   "pygments_lexer": "ipython3",
   "version": "3.10.11"
  }
 },
 "nbformat": 4,
 "nbformat_minor": 5
}
