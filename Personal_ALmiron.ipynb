{
 "cells": [
  {
   "cell_type": "markdown",
   "id": "4e787775",
   "metadata": {},
   "source": [
    "# Universidad Nacional de San Agustin\n",
    "\n",
    "## Escuela Profesional de Ingenieria de Telecomunicaciones"
   ]
  },
  {
   "cell_type": "markdown",
   "id": "42d35174",
   "metadata": {},
   "source": [
    "![Insinia ](https://upload.wikimedia.org/wikipedia/commons/f/f9/Escudo_UNSA.png)"
   ]
  },
  {
   "cell_type": "markdown",
   "id": "c3e16eca",
   "metadata": {},
   "source": [
    "#### Ingeniero Renzo Bolivar-Docente DAIE\n",
    "#### Curso: Computacion 2\n",
    "\n",
    "### NUMPY\n",
    "\n"
   ]
  },
  {
   "cell_type": "markdown",
   "id": "d1a8b485",
   "metadata": {},
   "source": [
    "## NUMPY FUNCIONES BASICAS"
   ]
  },
  {
   "cell_type": "markdown",
   "id": "2ac19dc5",
   "metadata": {},
   "source": [
    "### Matriz Unidimencional"
   ]
  },
  {
   "cell_type": "code",
   "execution_count": 1,
   "id": "7cd03d3e",
   "metadata": {},
   "outputs": [],
   "source": [
    "import numpy as np"
   ]
  },
  {
   "cell_type": "code",
   "execution_count": 2,
   "id": "0a67f986",
   "metadata": {},
   "outputs": [
    {
     "name": "stdout",
     "output_type": "stream",
     "text": [
      "[1 2 3 4]\n"
     ]
    }
   ],
   "source": [
    "a=np.array([1,2,3,4])\n",
    "print(a)"
   ]
  },
  {
   "cell_type": "markdown",
   "id": "34dbefa2",
   "metadata": {},
   "source": [
    "### Matriz bidimensional"
   ]
  },
  {
   "cell_type": "code",
   "execution_count": 3,
   "id": "8ad822e1",
   "metadata": {},
   "outputs": [
    {
     "name": "stdout",
     "output_type": "stream",
     "text": [
      "[[1 2 3 4]\n",
      " [5 6 7 8]]\n"
     ]
    }
   ],
   "source": [
    "b=np.array([(1,2,3,4),(5,6,7,8)])\n",
    "print(b)"
   ]
  },
  {
   "cell_type": "code",
   "execution_count": 5,
   "id": "baae6ff0",
   "metadata": {},
   "outputs": [
    {
     "name": "stdout",
     "output_type": "stream",
     "text": [
      "[[1 2 3 4]\n",
      " [5 6 7 8]]\n"
     ]
    }
   ],
   "source": [
    "array=np.array([[1,2,3,4],[5,6,7,8]], dtype=np.int64)\n",
    "print(array)"
   ]
  },
  {
   "cell_type": "markdown",
   "id": "52c81414",
   "metadata": {},
   "source": [
    "## Porque usar numpy"
   ]
  },
  {
   "cell_type": "markdown",
   "id": "8244379a",
   "metadata": {},
   "source": [
    "### Cantidad de momoria asignada"
   ]
  },
  {
   "cell_type": "code",
   "execution_count": 6,
   "id": "6da98c7e",
   "metadata": {},
   "outputs": [
    {
     "name": "stdout",
     "output_type": "stream",
     "text": [
      "[[1 2 3 4]\n",
      " [5 6 7 8]]\n"
     ]
    }
   ],
   "source": [
    "array=np.array([[1,2,3,4],[5,6,7,8]] )\n",
    "print(array)"
   ]
  },
  {
   "cell_type": "code",
   "execution_count": 7,
   "id": "caea6ad8",
   "metadata": {},
   "outputs": [
    {
     "name": "stdout",
     "output_type": "stream",
     "text": [
      "28000\n"
     ]
    }
   ],
   "source": [
    "import sys \n",
    "s=range(1000)\n",
    "print(sys.getsizeof(5)*len(s))"
   ]
  },
  {
   "cell_type": "markdown",
   "id": "ec079f5f",
   "metadata": {},
   "source": []
  },
  {
   "cell_type": "code",
   "execution_count": 8,
   "id": "74a32ae7",
   "metadata": {},
   "outputs": [
    {
     "name": "stdout",
     "output_type": "stream",
     "text": [
      "8\n"
     ]
    }
   ],
   "source": [
    "d=np.array(1000)\n",
    "print(d.size*d.itemsize)"
   ]
  },
  {
   "cell_type": "markdown",
   "id": "822cc505",
   "metadata": {},
   "source": [
    "#### Velocidad"
   ]
  },
  {
   "cell_type": "code",
   "execution_count": 9,
   "id": "accf1f12",
   "metadata": {},
   "outputs": [
    {
     "ename": "SyntaxError",
     "evalue": "cannot assign to function call here. Maybe you meant '==' instead of '='? (1773075546.py, line 9)",
     "output_type": "error",
     "traceback": [
      "\u001b[0;36m  Cell \u001b[0;32mIn[9], line 9\u001b[0;36m\u001b[0m\n\u001b[0;31m    print((time.time()=start)*1000)\u001b[0m\n\u001b[0m           ^\u001b[0m\n\u001b[0;31mSyntaxError\u001b[0m\u001b[0;31m:\u001b[0m cannot assign to function call here. Maybe you meant '==' instead of '='?\n"
     ]
    }
   ],
   "source": [
    "import time\n",
    "\n",
    "SIZE=1000000\n",
    "L1=range(SIZE)\n",
    "L2=range(SIZE)\n",
    "\n",
    "start=time.time()\n",
    "result=[(x,y)for x,y in zip(L1,L2)]\n",
    "print((time.time()=start)*1000)"
   ]
  },
  {
   "cell_type": "code",
   "execution_count": 10,
   "id": "54db6e7d",
   "metadata": {},
   "outputs": [
    {
     "ename": "SyntaxError",
     "evalue": "cannot assign to function call here. Maybe you meant '==' instead of '='? (988883132.py, line 5)",
     "output_type": "error",
     "traceback": [
      "\u001b[0;36m  Cell \u001b[0;32mIn[10], line 5\u001b[0;36m\u001b[0m\n\u001b[0;31m    print((time.time()=start)*1000)\u001b[0m\n\u001b[0m           ^\u001b[0m\n\u001b[0;31mSyntaxError\u001b[0m\u001b[0;31m:\u001b[0m cannot assign to function call here. Maybe you meant '==' instead of '='?\n"
     ]
    }
   ],
   "source": [
    "A1=np.arannge(SIZE)\n",
    "A2=np.arannge(SIZE)\n",
    "start=time.time()\n",
    "result=A1+A2\n",
    "print((time.time()=start)*1000)"
   ]
  },
  {
   "cell_type": "markdown",
   "id": "7879958e",
   "metadata": {},
   "source": [
    "### Matrices Vacias"
   ]
  },
  {
   "cell_type": "markdown",
   "id": "130fe0c5",
   "metadata": {},
   "source": [
    "#### matriz con numeros igual a 1"
   ]
  },
  {
   "cell_type": "code",
   "execution_count": 11,
   "id": "16a1a008",
   "metadata": {},
   "outputs": [
    {
     "name": "stdout",
     "output_type": "stream",
     "text": [
      "[[1. 1. 1. 1.]\n",
      " [1. 1. 1. 1.]\n",
      " [1. 1. 1. 1.]]\n"
     ]
    }
   ],
   "source": [
    "\n",
    "unos=np.ones((3,4))\n",
    "print(unos)"
   ]
  },
  {
   "cell_type": "code",
   "execution_count": 13,
   "id": "daf21874",
   "metadata": {},
   "outputs": [
    {
     "name": "stdout",
     "output_type": "stream",
     "text": [
      "[[0. 0. 0. 0.]\n",
      " [0. 0. 0. 0.]\n",
      " [0. 0. 0. 0.]]\n"
     ]
    }
   ],
   "source": [
    "ceros=np.zeros((3,4))\n",
    "print(ceros)"
   ]
  },
  {
   "cell_type": "code",
   "execution_count": 14,
   "id": "fcfc95d6",
   "metadata": {},
   "outputs": [
    {
     "name": "stdout",
     "output_type": "stream",
     "text": [
      "[[0.70013163 0.9043987 ]\n",
      " [0.24428733 0.30570127]]\n"
     ]
    }
   ],
   "source": [
    "aleatorios=np.random.random((2,2))\n",
    "print(aleatorios)"
   ]
  },
  {
   "cell_type": "code",
   "execution_count": 15,
   "id": "8ea96b12",
   "metadata": {},
   "outputs": [
    {
     "name": "stdout",
     "output_type": "stream",
     "text": [
      "[[1.4742527e-316 0.0000000e+000]\n",
      " [0.0000000e+000 0.0000000e+000]\n",
      " [0.0000000e+000 0.0000000e+000]]\n"
     ]
    }
   ],
   "source": [
    "vacia=np.empty((3,2))\n",
    "print(vacia)"
   ]
  },
  {
   "cell_type": "code",
   "execution_count": 16,
   "id": "3b14f9e6",
   "metadata": {},
   "outputs": [
    {
     "name": "stdout",
     "output_type": "stream",
     "text": [
      "[[8 8]\n",
      " [8 8]]\n"
     ]
    }
   ],
   "source": [
    "full=np.full((2,2),8)\n",
    "print(full)"
   ]
  },
  {
   "cell_type": "code",
   "execution_count": 17,
   "id": "758186a6",
   "metadata": {},
   "outputs": [
    {
     "name": "stdout",
     "output_type": "stream",
     "text": [
      "[ 0  5 10 15 20 25 30]\n"
     ]
    }
   ],
   "source": [
    "espacio1=np.arange(0,35,5)\n",
    "print(espacio1)"
   ]
  },
  {
   "cell_type": "code",
   "execution_count": 18,
   "id": "f9deaf5c",
   "metadata": {},
   "outputs": [
    {
     "name": "stdout",
     "output_type": "stream",
     "text": [
      "[0.  0.5 1.  1.5 2. ]\n"
     ]
    }
   ],
   "source": [
    "espacio2=np.linspace(0,2,5,)\n",
    "print(espacio2)"
   ]
  },
  {
   "cell_type": "code",
   "execution_count": 19,
   "id": "3211d924",
   "metadata": {},
   "outputs": [
    {
     "name": "stdout",
     "output_type": "stream",
     "text": [
      "[[1. 0. 0. 0.]\n",
      " [0. 1. 0. 0.]\n",
      " [0. 0. 1. 0.]\n",
      " [0. 0. 0. 1.]]\n",
      "[[1. 0. 0. 0.]\n",
      " [0. 1. 0. 0.]\n",
      " [0. 0. 1. 0.]\n",
      " [0. 0. 0. 1.]]\n"
     ]
    }
   ],
   "source": [
    "identidad1=np.eye(4,4)\n",
    "print(identidad1)\n",
    "identidad2=np.identity(4)\n",
    "print(identidad2)"
   ]
  },
  {
   "cell_type": "markdown",
   "id": "82d856ec",
   "metadata": {},
   "source": [
    "### Inspeccionar matrices de Numpy"
   ]
  },
  {
   "cell_type": "markdown",
   "id": "c3a20951",
   "metadata": {},
   "source": [
    "#### dimensiones de una matriz"
   ]
  },
  {
   "cell_type": "code",
   "execution_count": 20,
   "id": "6858ea3f",
   "metadata": {},
   "outputs": [
    {
     "name": "stdout",
     "output_type": "stream",
     "text": [
      "2\n"
     ]
    }
   ],
   "source": [
    "a=np.array([(1,2,3),(4,5,6)])\n",
    "print(a.ndim) #dimensiones de la matriz"
   ]
  },
  {
   "cell_type": "markdown",
   "id": "10215142",
   "metadata": {},
   "source": [
    "#### tipo de datos de una matriz"
   ]
  },
  {
   "cell_type": "code",
   "execution_count": 21,
   "id": "fe575840",
   "metadata": {},
   "outputs": [
    {
     "name": "stdout",
     "output_type": "stream",
     "text": [
      "int64\n"
     ]
    }
   ],
   "source": [
    "print(a.dtype)"
   ]
  },
  {
   "cell_type": "markdown",
   "id": "bdd2bb7b",
   "metadata": {},
   "source": [
    "#### Tamaño y forma de una matriz"
   ]
  },
  {
   "cell_type": "code",
   "execution_count": 22,
   "id": "7d085ac7",
   "metadata": {},
   "outputs": [
    {
     "name": "stdout",
     "output_type": "stream",
     "text": [
      "6\n",
      "(1, 6)\n"
     ]
    }
   ],
   "source": [
    "a=np.array([(1,2,3,4,5,6)])\n",
    "print(a.size)\n",
    "print(a.shape)"
   ]
  },
  {
   "cell_type": "markdown",
   "id": "8de78aa0",
   "metadata": {},
   "source": [
    "#### Cambio de forma de una matriz"
   ]
  },
  {
   "cell_type": "code",
   "execution_count": 23,
   "id": "5377ef83",
   "metadata": {},
   "outputs": [
    {
     "name": "stdout",
     "output_type": "stream",
     "text": [
      "[[ 8  9 10]\n",
      " [11 12 13]]\n",
      "[[ 8  9]\n",
      " [10 11]\n",
      " [12 13]]\n"
     ]
    }
   ],
   "source": [
    "a=np.array([(8,9,10),(11,12,13)])\n",
    "print(a)\n",
    "a=a.reshape(3,2)\n",
    "print(a)"
   ]
  },
  {
   "cell_type": "markdown",
   "id": "b86d45d3",
   "metadata": {},
   "source": [
    "#### Seleccionar elementos de una matriz"
   ]
  },
  {
   "cell_type": "code",
   "execution_count": 24,
   "id": "43873a74",
   "metadata": {},
   "outputs": [
    {
     "name": "stdout",
     "output_type": "stream",
     "text": [
      "3\n"
     ]
    }
   ],
   "source": [
    "a=np.array([(1,2,3,4),(3,4,5,6)])\n",
    "print(a[0,2])"
   ]
  },
  {
   "cell_type": "code",
   "execution_count": 25,
   "id": "62cc2e3e",
   "metadata": {},
   "outputs": [
    {
     "name": "stdout",
     "output_type": "stream",
     "text": [
      "[3 7]\n"
     ]
    }
   ],
   "source": [
    "a=np.array([(1,2,3,4),(5,6,7,8)])\n",
    "print(a[0:,2])"
   ]
  },
  {
   "cell_type": "markdown",
   "id": "6f94e206",
   "metadata": {},
   "source": [
    "### Operacione Matematicas entre matrices de Numpy"
   ]
  },
  {
   "cell_type": "markdown",
   "id": "0c48c0e6",
   "metadata": {},
   "source": [
    "#### valor minimo, maximo y la suma"
   ]
  },
  {
   "cell_type": "code",
   "execution_count": 26,
   "id": "8a7749c0",
   "metadata": {},
   "outputs": [
    {
     "name": "stdout",
     "output_type": "stream",
     "text": [
      "2\n",
      "800\n",
      "847\n"
     ]
    }
   ],
   "source": [
    "a=np.array([(2,45,800)])\n",
    "print(a.min())\n",
    "print(a.max())\n",
    "print(a.sum())"
   ]
  },
  {
   "cell_type": "markdown",
   "id": "034aca4d",
   "metadata": {},
   "source": [
    "#### Raiz cuadrada y desviacion de una matriz"
   ]
  },
  {
   "cell_type": "code",
   "execution_count": 27,
   "id": "02f6ca0f",
   "metadata": {},
   "outputs": [
    {
     "name": "stdout",
     "output_type": "stream",
     "text": [
      "[[1.         2.         9.        ]\n",
      " [5.74456265 6.63324958 7.07106781]]\n",
      "27.5121185419565\n"
     ]
    }
   ],
   "source": [
    "a=np.array([(1,4,81),(33,44,50)])\n",
    "print(np.sqrt(a))  #raiz\n",
    "print(np.std(a))  #division estandar"
   ]
  },
  {
   "cell_type": "markdown",
   "id": "f0f5da91",
   "metadata": {},
   "source": [
    "#### Suma, resta, multiplicacion y division de dos matrices"
   ]
  },
  {
   "cell_type": "code",
   "execution_count": 28,
   "id": "27b9456d",
   "metadata": {},
   "outputs": [
    {
     "name": "stdout",
     "output_type": "stream",
     "text": [
      "[[ 2  4  6]\n",
      " [ 8 10 12]]\n",
      "\n",
      "[[0 0 0]\n",
      " [0 0 0]]\n",
      "\n",
      "[[ 1  4  9]\n",
      " [16 25 36]]\n",
      "\n",
      "[[1. 1. 1.]\n",
      " [1. 1. 1.]]\n"
     ]
    }
   ],
   "source": [
    "x=np.array([(1,2,3),(4,5,6)])\n",
    "y=np.array([(1,2,3),(4,5,6)])\n",
    "print(x+y)\n",
    "print()\n",
    "print(x-y)\n",
    "print()\n",
    "print(x*y)\n",
    "print()\n",
    "print(x/y)"
   ]
  },
  {
   "cell_type": "markdown",
   "id": "09101212",
   "metadata": {},
   "source": [
    "### Ejemplo"
   ]
  },
  {
   "cell_type": "code",
   "execution_count": 30,
   "id": "6b3e4fc8",
   "metadata": {},
   "outputs": [
    {
     "name": "stdout",
     "output_type": "stream",
     "text": [
      "[[0 0 0 0 0]\n",
      " [1 0 0 0 0]\n",
      " [0 2 0 0 0]\n",
      " [0 0 3 0 0]\n",
      " [0 0 0 4 0]]\n"
     ]
    }
   ],
   "source": [
    "z=np.diag(1+np.arange(4),k=-1)\n",
    "print(z)"
   ]
  },
  {
   "cell_type": "code",
   "execution_count": 33,
   "id": "ddb6bebf",
   "metadata": {},
   "outputs": [
    {
     "name": "stdout",
     "output_type": "stream",
     "text": [
      "0.567128802787508\n"
     ]
    }
   ],
   "source": [
    "z=np.random.random(30)\n",
    "m=z.mean()\n",
    "print(m)"
   ]
  },
  {
   "cell_type": "code",
   "execution_count": 35,
   "id": "f7bc4746",
   "metadata": {},
   "outputs": [
    {
     "name": "stdout",
     "output_type": "stream",
     "text": [
      "[[0. 0. 0. 0. 0. 0. 0.]\n",
      " [0. 1. 1. 1. 1. 1. 0.]\n",
      " [0. 1. 1. 1. 1. 1. 0.]\n",
      " [0. 1. 1. 1. 1. 1. 0.]\n",
      " [0. 1. 1. 1. 1. 1. 0.]\n",
      " [0. 1. 1. 1. 1. 1. 0.]\n",
      " [0. 0. 0. 0. 0. 0. 0.]]\n"
     ]
    }
   ],
   "source": [
    "z=np.ones((5,5))\n",
    "z=np.pad(z,pad_width=1,mode='constant',constant_values=0)\n",
    "print(z)"
   ]
  }
 ],
 "metadata": {
  "kernelspec": {
   "display_name": "Python 3 (ipykernel)",
   "language": "python",
   "name": "python3"
  },
  "language_info": {
   "codemirror_mode": {
    "name": "ipython",
    "version": 3
   },
   "file_extension": ".py",
   "mimetype": "text/x-python",
   "name": "python",
   "nbconvert_exporter": "python",
   "pygments_lexer": "ipython3",
   "version": "3.10.11"
  }
 },
 "nbformat": 4,
 "nbformat_minor": 5
}
